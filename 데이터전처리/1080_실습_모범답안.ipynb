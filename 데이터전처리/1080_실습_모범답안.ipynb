{
 "cells": [
  {
   "cell_type": "code",
   "execution_count": 1,
   "metadata": {},
   "outputs": [],
   "source": [
    "from csv import reader"
   ]
  },
  {
   "cell_type": "code",
   "execution_count": 2,
   "metadata": {},
   "outputs": [],
   "source": [
    "data_rdr=reader(open('data01.csv','rt'))\n",
    "header1_rdr=reader(open('header01.csv','rt'))\n",
    "header2_rdr = reader(open('header02.csv','rt'))"
   ]
  },
  {
   "cell_type": "code",
   "execution_count": 3,
   "metadata": {},
   "outputs": [],
   "source": [
    "#list comprehesion\n",
    "data_rows=[d for d in data_rdr]\n",
    "header1_rows=[h for h in header1_rdr]\n",
    "header2_rows=[h for h in header2_rdr]"
   ]
  },
  {
   "cell_type": "code",
   "execution_count": 4,
   "metadata": {},
   "outputs": [
    {
     "name": "stdout",
     "output_type": "stream",
     "text": [
      "155\n",
      "203\n",
      "7\n"
     ]
    }
   ],
   "source": [
    "#새 헤더의 길이 출력\n",
    "print(len(data_rows[0]))\n",
    "print(len(header1_rows))\n",
    "print(len(header2_rows))"
   ]
  },
  {
   "cell_type": "code",
   "execution_count": 5,
   "metadata": {},
   "outputs": [
    {
     "data": {
      "text/plain": [
       "58"
      ]
     },
     "execution_count": 5,
     "metadata": {},
     "output_type": "execute_result"
    }
   ],
   "source": [
    "bad_rows=[]\n",
    "\n",
    "for h in header1_rows:\n",
    "    if h[0] not in data_rows[0]:\n",
    "        bad_rows.append(h)\n",
    "len(bad_rows)"
   ]
  },
  {
   "cell_type": "code",
   "execution_count": 6,
   "metadata": {},
   "outputs": [
    {
     "data": {
      "text/plain": [
       "145"
      ]
     },
     "execution_count": 6,
     "metadata": {},
     "output_type": "execute_result"
    }
   ],
   "source": [
    "#data01과 header01의 교집합 헤더의 갯수\n",
    "for h in bad_rows:\n",
    "    header1_rows.remove(h)\n",
    "len(header1_rows)"
   ]
  },
  {
   "cell_type": "code",
   "execution_count": 7,
   "metadata": {},
   "outputs": [
    {
     "data": {
      "text/plain": [
       "['MWB5',\n",
       " 'MDV1F',\n",
       " 'MMA6',\n",
       " 'MTA8E',\n",
       " 'mwelevel',\n",
       " 'mnweight',\n",
       " 'wscoreu',\n",
       " 'windex5u',\n",
       " 'wscorer',\n",
       " 'windex5r']"
      ]
     },
     "execution_count": 7,
     "metadata": {},
     "output_type": "execute_result"
    }
   ],
   "source": [
    "#수정할 부분\n",
    "mismatch=[]\n",
    "all_short_headers=[h[0] for h in header1_rows]\n",
    "for header in data_rows[0]:\n",
    "    if header not in all_short_headers:\n",
    "        mismatch.append(header)\n",
    "mismatch"
   ]
  },
  {
   "cell_type": "code",
   "execution_count": 8,
   "metadata": {},
   "outputs": [
    {
     "name": "stdout",
     "output_type": "stream",
     "text": [
      "4 149\n"
     ]
    }
   ],
   "source": [
    "#header2에서 mismatch에 있는 4개헤더 header1에 추가\n",
    "count=0\n",
    "for h in header2_rows:\n",
    "    if h[0] in mismatch:\n",
    "        header1_rows.append(h)\n",
    "        count+=1\n",
    "print(count,len(header1_rows))"
   ]
  },
  {
   "cell_type": "code",
   "execution_count": 9,
   "metadata": {},
   "outputs": [
    {
     "data": {
      "text/plain": [
       "[147, 148, 151, 152, 153, 154]"
      ]
     },
     "execution_count": 9,
     "metadata": {},
     "output_type": "execute_result"
    }
   ],
   "source": [
    "#mismatch 8개 데이터 index 추출\n",
    "skip_index=[]\n",
    "final_header_rows=[]\n",
    "all_short_headers=[h[0] for h in header1_rows]\n",
    "for header in data_rows[0]:\n",
    "    if header not in all_short_headers:\n",
    "        index=data_rows[0].index(header)\n",
    "        skip_index.append(index)\n",
    "    #어긋난부분 재배열\n",
    "    else:\n",
    "        for head in header1_rows:\n",
    "            if head[0]==header:\n",
    "                final_header_rows.append(head)\n",
    "                break\n",
    "skip_index"
   ]
  },
  {
   "cell_type": "code",
   "execution_count": 10,
   "metadata": {},
   "outputs": [
    {
     "data": {
      "text/plain": [
       "149"
      ]
     },
     "execution_count": 10,
     "metadata": {},
     "output_type": "execute_result"
    }
   ],
   "source": [
    "#6개 mismatch 삭제 155->149\n",
    "#new_data[0]은 최종적으로 전처리된 데이터 파일의 헤더 개수\n",
    "new_data=[]\n",
    "\n",
    "for row in data_rows:\n",
    "    new_row=[]\n",
    "    for i,d in enumerate(row):\n",
    "        if i not in skip_index:\n",
    "            new_row.append(d)\n",
    "    new_data.append(new_row)\n",
    "len(new_data[0])"
   ]
  },
  {
   "cell_type": "code",
   "execution_count": 11,
   "metadata": {},
   "outputs": [
    {
     "data": {
      "text/plain": [
       "['Cluster number',\n",
       " 'Household number',\n",
       " 'Line number',\n",
       " 'Cluster number',\n",
       " 'Household number',\n",
       " \"Man's line number\",\n",
       " 'Interviewer number',\n",
       " 'Day of interview',\n",
       " 'Month of interview',\n",
       " 'Year of interview',\n",
       " \"Result of man's interview\",\n",
       " 'Field editor',\n",
       " 'Data entry clerk',\n",
       " 'Start of interview - Hour',\n",
       " 'Start of interview - Minutes',\n",
       " 'End of interview - Hour',\n",
       " 'End of interview - Minutes',\n",
       " 'Month of birth of man',\n",
       " 'Year of birth of man',\n",
       " 'Age of man',\n",
       " 'Ever attended school',\n",
       " 'Highest level of school attended',\n",
       " 'Highest grade completed at that level',\n",
       " 'Frequency of reading newspaper or magazine',\n",
       " 'Frequency of listening to the radio',\n",
       " 'Frequency of watching TV',\n",
       " 'Ever used a computer',\n",
       " 'Computer usage in the last 12 months',\n",
       " 'Frequency of computer usage in the last month',\n",
       " 'Ever used internet',\n",
       " 'Internet usage in the last 12 months',\n",
       " 'Frequency of Internet usage in the past month',\n",
       " 'Ever used a mobile or non-mobile phone',\n",
       " 'Mobile or non-mobile phone usage in the last 12 months',\n",
       " 'Frequency of mobile or non-mobile usage in the past month',\n",
       " 'Ever fathered any children with any women',\n",
       " 'Age when first child was born',\n",
       " 'Any sons or daughters living with you',\n",
       " 'Sons living with you',\n",
       " 'Daughters living with you',\n",
       " 'Any sons or daughters not living with you',\n",
       " 'Sons living elsewhere',\n",
       " 'Daughters living elsewhere',\n",
       " 'Ever had child who later died',\n",
       " 'Boys dead',\n",
       " 'Girls dead',\n",
       " 'Children ever born',\n",
       " 'Same biological mother',\n",
       " 'Number of women respondent fathered children with',\n",
       " 'Month of last birth',\n",
       " 'Year of last birth',\n",
       " 'If she goes out with out telling husband: wife beating justified',\n",
       " 'If she neglects the children: wife beating justified',\n",
       " 'If she argues with husband: wife beating justified',\n",
       " 'If she refuses sex with husband: wife beating justified',\n",
       " 'If she burns the food: wife beating justified',\n",
       " 'Is she commits infidelity: wife beating justified',\n",
       " 'Currently married or living with a man',\n",
       " 'Haveing other wives or liveing with other women as if you are married',\n",
       " 'How many other wives / partners living with you',\n",
       " 'Ever married or lived with a woman',\n",
       " 'Marital status',\n",
       " 'Month of first union',\n",
       " 'Year of first union',\n",
       " 'Age at first union',\n",
       " 'Age at first sexual intercourse',\n",
       " 'Condom used during first sexual intercourse',\n",
       " 'Time since last sexual intercourse (unit)',\n",
       " 'Time since last sexual intercourse (number)',\n",
       " 'Condom used at last sexual intercourse',\n",
       " 'Relationship to last sexual partner',\n",
       " 'Sex with any other person in the last 12 month',\n",
       " 'Condom used with prior sexual partner',\n",
       " 'Relationship to prior sexual partner',\n",
       " 'Sex with any other man in the last 12 months',\n",
       " 'Number of sex partners in last 12 months',\n",
       " 'Number of sex partners in lifetime',\n",
       " 'Ever heard of AIDS',\n",
       " 'Can avoid AIDS virus by having one uninfected partner',\n",
       " 'Can get AIDS virus through supernatural means',\n",
       " 'Can avoid AIDS virus by using a condom correctly every time',\n",
       " 'Can get AIDS virus from mosquito bites',\n",
       " 'Can get AIDS virus by sharing food with a person who has AIDS',\n",
       " 'Healthy-looking person may have AIDS virus',\n",
       " 'AIDS virus from mother to child during pregnancy',\n",
       " 'AIDS virus from mother to child during delivery',\n",
       " 'AIDS virus from mother to child through breastfeeding',\n",
       " 'Should female teacher with AIDS virus be allowed to teach in school',\n",
       " 'Would buy fresh vegetables from shopkeeper with AIDS virus',\n",
       " 'If HH member became infected with AIDS virus, would want it to remain a secret',\n",
       " 'Willing to care for person with AIDS in household',\n",
       " 'Ever been tested for AIDS virus',\n",
       " 'Most recent time of testing for AIDS virus',\n",
       " 'Received results of AIDS virus test',\n",
       " 'Respondent is circumcised',\n",
       " 'Age at circumcision',\n",
       " 'Person performing circumcision',\n",
       " 'Place of circumcision',\n",
       " 'Ever tried cigarette smoking',\n",
       " 'Age when cigarette was smoked for the first time',\n",
       " 'Currently smoking cigarettes',\n",
       " 'Number of cigarettes smoked in the last 24 hours',\n",
       " 'Number of days when cigarettes were smoked in past month',\n",
       " 'Ever tried any smoked tobacco products other than cigarettes',\n",
       " 'Used any smoked tobacco products during the last month',\n",
       " 'Type of smoked tobacco product: Cigars',\n",
       " 'Type of smoked tobacco product: Water pipe',\n",
       " 'Type of smoked tobacco product: Cigarillos',\n",
       " 'Type of smoked tobacco product: Pipe',\n",
       " 'Type of smoked tomacco product: Rolled tobacco',\n",
       " 'Type of smoked tobacco product: Other',\n",
       " 'Number of days when tobacco products where smoked in past month',\n",
       " 'Ever tried any form of smokeless tobacco products',\n",
       " 'Used any smokeless tobacco products during the last month',\n",
       " 'Type of smokeless tobacco product used: Chewing tobacco',\n",
       " 'Type of smokeless tobacco product used: Snuff',\n",
       " 'Type of smokeless tobacco product used: Dip',\n",
       " 'Type of smokeless tobacco product used: Other',\n",
       " 'Number of days when smokeless tobacco products where used in past month',\n",
       " 'Ever drunk alcohol',\n",
       " 'Age when alcohol was used for the first time',\n",
       " 'Number of days when at least one drink of alcohol was used in past month',\n",
       " 'Number of drinks usually consumed',\n",
       " 'Net number',\n",
       " 'Mosquito net observed',\n",
       " 'Brand/type of observed net',\n",
       " 'Months ago net obtained',\n",
       " 'Net treated with an insecticide when obtained',\n",
       " 'Net soaked or dipped since obtained',\n",
       " 'Months ago net soaked or dipped',\n",
       " 'Persons slept under mosquito net last night',\n",
       " 'Person 1 who slept under net',\n",
       " 'Person 2 who slept under net',\n",
       " 'Person 3 who slept under net',\n",
       " 'Person 4 who slept under net',\n",
       " 'Area',\n",
       " 'Region',\n",
       " 'Date of interview women (CMC)',\n",
       " 'Date of birth of woman (CMC)',\n",
       " 'Age',\n",
       " 'Date of marriage (CMC)',\n",
       " 'Age at first marriage/union',\n",
       " 'Date of birth of last child (CMC)',\n",
       " 'Marital/Union status',\n",
       " 'Children ever born',\n",
       " 'Children surviving',\n",
       " 'Children dead',\n",
       " 'Wealth index score',\n",
       " 'Wealth index quintiles']"
      ]
     },
     "execution_count": 11,
     "metadata": {},
     "output_type": "execute_result"
    }
   ],
   "source": [
    "#헤더 설명 list만들기\n",
    "header1=[]\n",
    "for row in final_header_rows:\n",
    "    header1.append(row[1])\n",
    "header1"
   ]
  },
  {
   "cell_type": "code",
   "execution_count": 12,
   "metadata": {},
   "outputs": [],
   "source": [
    "#데이터에 헤더설명 추가\n",
    "new_data.insert(1,header1)"
   ]
  },
  {
   "cell_type": "code",
   "execution_count": 13,
   "metadata": {},
   "outputs": [],
   "source": [
    "import pandas as pd\n",
    "df=pd.DataFrame(new_data)\n",
    "df.to_csv('data01_clean.csv')"
   ]
  },
  {
   "cell_type": "code",
   "execution_count": null,
   "metadata": {},
   "outputs": [],
   "source": []
  }
 ],
 "metadata": {
  "kernelspec": {
   "display_name": "Python 3",
   "language": "python",
   "name": "python3"
  },
  "language_info": {
   "codemirror_mode": {
    "name": "ipython",
    "version": 3
   },
   "file_extension": ".py",
   "mimetype": "text/x-python",
   "name": "python",
   "nbconvert_exporter": "python",
   "pygments_lexer": "ipython3",
   "version": "3.8.3"
  }
 },
 "nbformat": 4,
 "nbformat_minor": 4
}
