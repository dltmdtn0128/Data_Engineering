{
 "cells": [
  {
   "cell_type": "code",
   "execution_count": 1,
   "metadata": {},
   "outputs": [],
   "source": [
    "import csv"
   ]
  },
  {
   "cell_type": "code",
   "execution_count": 2,
   "metadata": {},
   "outputs": [],
   "source": [
    "f = open('seoul.csv') #서울\n",
    "data = csv.reader(f)\n",
    "header=next(data)\n",
    "\n",
    "min_temp = 999\n",
    "min_date = ''\n",
    "for row in data:\n",
    "    if row[-2]=='':\n",
    "        row[-2]=999\n",
    "    row[-2]=float(row[-2])\n",
    "    if min_temp>row[-2]:\n",
    "        min_date=row[0]\n",
    "        min_temp = row[-2]\n",
    "f.close()\n",
    "smin_date=min_date\n",
    "smin_temp=min_temp"
   ]
  },
  {
   "cell_type": "code",
   "execution_count": 3,
   "metadata": {},
   "outputs": [],
   "source": [
    "f = open('incheon.csv') #인천\n",
    "data = csv.reader(f)\n",
    "header=next(data)\n",
    "\n",
    "min_temp = 999\n",
    "min_date = ''\n",
    "for row in data:\n",
    "    if row[-2]=='':\n",
    "        row[-2]=999\n",
    "    row[-2]=float(row[-2])\n",
    "    if min_temp>row[-2]:\n",
    "        min_date=row[0]\n",
    "        min_temp = row[-2]\n",
    "f.close()\n",
    "imin_date=min_date\n",
    "imin_temp=min_temp"
   ]
  },
  {
   "cell_type": "code",
   "execution_count": 5,
   "metadata": {},
   "outputs": [
    {
     "name": "stdout",
     "output_type": "stream",
     "text": [
      "기상관측이래 최저기온이 가장 낮았던 날은 서울으로 1927-12-31 로 -23.1 도 였습니다.\n"
     ]
    }
   ],
   "source": [
    "if smin_temp>imin_temp:\n",
    "    print('기상관측이래 최저기온이 가장 낮았던 날은 인천으로',imin_date,'로',imin_temp,'도 였습니다.')\n",
    "else:\n",
    "    print('기상관측이래 최저기온이 가장 낮았던 날은 서울으로',smin_date,'로',smin_temp,'도 였습니다.')"
   ]
  },
  {
   "cell_type": "code",
   "execution_count": null,
   "metadata": {},
   "outputs": [],
   "source": []
  }
 ],
 "metadata": {
  "kernelspec": {
   "display_name": "Python 3",
   "language": "python",
   "name": "python3"
  },
  "language_info": {
   "codemirror_mode": {
    "name": "ipython",
    "version": 3
   },
   "file_extension": ".py",
   "mimetype": "text/x-python",
   "name": "python",
   "nbconvert_exporter": "python",
   "pygments_lexer": "ipython3",
   "version": "3.8.3"
  }
 },
 "nbformat": 4,
 "nbformat_minor": 4
}
