{
 "cells": [
  {
   "cell_type": "code",
   "execution_count": 1,
   "metadata": {},
   "outputs": [],
   "source": [
    "import csv"
   ]
  },
  {
   "cell_type": "code",
   "execution_count": 2,
   "metadata": {},
   "outputs": [],
   "source": [
    "s=open('seoul.csv')\n",
    "i=open('incheon.csv')"
   ]
  },
  {
   "cell_type": "code",
   "execution_count": 3,
   "metadata": {},
   "outputs": [],
   "source": [
    "Sdata=csv.reader(s) \n",
    "Sheader=next(Sdata) #서울 헤더\n",
    "Idata=csv.reader(i) \n",
    "Iheader=next(Idata) #인천 헤더"
   ]
  },
  {
   "cell_type": "code",
   "execution_count": 4,
   "metadata": {},
   "outputs": [],
   "source": [
    "low_temp= 999\n",
    "low_date=''\n",
    "city=''"
   ]
  },
  {
   "cell_type": "code",
   "execution_count": 5,
   "metadata": {},
   "outputs": [],
   "source": [
    "Slow_temp= 999\n",
    "Slow_date=''"
   ]
  },
  {
   "cell_type": "code",
   "execution_count": 6,
   "metadata": {},
   "outputs": [],
   "source": [
    "Ilow_temp= 999\n",
    "Ilow_date=''"
   ]
  },
  {
   "cell_type": "code",
   "execution_count": 7,
   "metadata": {},
   "outputs": [],
   "source": [
    "for row in Sdata: \n",
    "    if row[-2]=='':\n",
    "        row[-2]= 999\n",
    "    else:\n",
    "        row[-2]=float(row[-2])\n",
    "    if Slow_temp > row[-2]:\n",
    "        Slow_date == row[0]\n",
    "        Slow_temp=row[-2]\n",
    "s.close() "
   ]
  },
  {
   "cell_type": "code",
   "execution_count": 8,
   "metadata": {},
   "outputs": [],
   "source": [
    "for row in Idata: \n",
    "    if row[-2]=='':\n",
    "        row[-2]= 999\n",
    "    else:\n",
    "        row[-2]=float(row[-2])\n",
    "    if Ilow_temp > row[-2]:\n",
    "        Ilow_date == row[0]\n",
    "        Ilow_temp=row[-2]\n",
    "i.close() "
   ]
  },
  {
   "cell_type": "code",
   "execution_count": 9,
   "metadata": {},
   "outputs": [],
   "source": [
    "if Slow_temp > Ilow_temp:\n",
    "    low_temp=Ilow_temp\n",
    "    low_date=Ilow_date\n",
    "    city= '인천'\n",
    "else:\n",
    "    low_temp=Slow_temp\n",
    "    low_date=Slow_date\n",
    "    city='서울'"
   ]
  },
  {
   "cell_type": "code",
   "execution_count": 10,
   "metadata": {},
   "outputs": [
    {
     "name": "stdout",
     "output_type": "stream",
     "text": [
      "기상 관측이래 최저 기온이 낮았던 날은  서울 로  로 -23.1 도 였습니다.\n"
     ]
    }
   ],
   "source": [
    "print(\"기상 관측이래 최저 기온이 낮았던 날은 \",city,'로',low_date,'로',low_temp,'도 였습니다.')"
   ]
  },
  {
   "cell_type": "code",
   "execution_count": null,
   "metadata": {},
   "outputs": [],
   "source": []
  }
 ],
 "metadata": {
  "kernelspec": {
   "display_name": "Python 3",
   "language": "python",
   "name": "python3"
  },
  "language_info": {
   "codemirror_mode": {
    "name": "ipython",
    "version": 3
   },
   "file_extension": ".py",
   "mimetype": "text/x-python",
   "name": "python",
   "nbconvert_exporter": "python",
   "pygments_lexer": "ipython3",
   "version": "3.8.3"
  }
 },
 "nbformat": 4,
 "nbformat_minor": 4
}
